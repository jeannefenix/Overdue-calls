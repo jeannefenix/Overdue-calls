{
  "nbformat": 4,
  "nbformat_minor": 0,
  "metadata": {
    "colab": {
      "name": "clean_cooking.ipynb",
      "provenance": [],
      "collapsed_sections": []
    },
    "kernelspec": {
      "name": "python3",
      "display_name": "Python 3"
    },
    "accelerator": "GPU"
  },
  "cells": [
    {
      "cell_type": "code",
      "metadata": {
        "id": "js-6HhDoTTWp",
        "colab_type": "code",
        "colab": {}
      },
      "source": [
        "import pandas as pd\n",
        "import matplotlib.pyplot as plt\n",
        "from scipy.stats import norm\n",
        "import numpy as np\n",
        "import datetime\n",
        "pd.set_option('display.max_colwidth', 1000)\n",
        "pd.options.display.max_rows = 999"
      ],
      "execution_count": 0,
      "outputs": []
    },
    {
      "cell_type": "code",
      "metadata": {
        "id": "JHfn2PCyT0Sj",
        "colab_type": "code",
        "outputId": "84606c96-cc46-4c27-d0b0-89013d493809",
        "colab": {
          "base_uri": "https://localhost:8080/",
          "height": 34
        }
      },
      "source": [
        "%cd drive/My Drive/ENGIE/clean_cooking"
      ],
      "execution_count": 2,
      "outputs": [
        {
          "output_type": "stream",
          "text": [
            "/content/drive/My Drive/ENGIE/clean_cooking\n"
          ],
          "name": "stdout"
        }
      ]
    },
    {
      "cell_type": "code",
      "metadata": {
        "id": "3Y5PHWjxT08Y",
        "colab_type": "code",
        "outputId": "36fa6346-6f55-4f88-85f2-126547da8266",
        "colab": {
          "base_uri": "https://localhost:8080/",
          "height": 34
        }
      },
      "source": [
        "!pwd"
      ],
      "execution_count": 3,
      "outputs": [
        {
          "output_type": "stream",
          "text": [
            "/content/drive/My Drive/ENGIE/clean_cooking\n"
          ],
          "name": "stdout"
        }
      ]
    },
    {
      "cell_type": "code",
      "metadata": {
        "id": "3ybbUA5fZfMt",
        "colab_type": "code",
        "colab": {}
      },
      "source": [
        "#df_overdue.columns"
      ],
      "execution_count": 0,
      "outputs": []
    },
    {
      "cell_type": "markdown",
      "metadata": {
        "id": "9dxB1QQKkfm3",
        "colab_type": "text"
      },
      "source": [
        "Discard Payments with no Phone Number supplied ('\\N')"
      ]
    },
    {
      "cell_type": "code",
      "metadata": {
        "id": "zHzBoOTnjvxf",
        "colab_type": "code",
        "outputId": "043aa7a6-cdf8-4316-cf5e-be9b4a7f2cc1",
        "colab": {
          "base_uri": "https://localhost:8080/",
          "height": 85
        }
      },
      "source": [
        "df_overdue=pd.read_excel('Overdue Payment form for analysis.xlsx')\n",
        "df_payments=pd.read_excel('Phone payments for Axel.xlsx')\n",
        "df_act=pd.read_excel('Customer information for Axel.xlsx')\n",
        "\n",
        "print('The dimensions of the overdue payment df (df_overdue) are:',df_overdue.shape)\n",
        "print('The dimensions of the phone payment df (df_payments) are:',df_payments.shape)\n",
        "print('The dimensions of the customer activation df (df_act) are:',df_act.shape)\n",
        "\n",
        "\n",
        "\n",
        "df_overdue=df_overdue.rename(columns={\"Timestamp\":\"Timestamp Overdue Call\",\"I'm calling to see how you are enjoying your Fumba unit. Do you have some time to speak now?\":\"Time for call\",\"Enter the phone number that is registered as the customer's primary phone number.1\":\"Phone Number\",\"Enter the amount of money on which the customer is being late:\":\"Amount Overdue\",\"Enter the number of days for which the customer has been late:\":\"Days Overdue\"})\n",
        "df_overdue=df_overdue.loc[:,['Timestamp Overdue Call','Time for call','Phone Number','Amount Overdue','Days Overdue']]\n",
        "df_overdue['Days Overdue']=df_overdue['Days Overdue'].astype(int)\n",
        "df_payments=df_payments.loc[df_payments['Phone Number']!=r'\\N',:]\n",
        "\n",
        "\n",
        "FILTER_CALL=1 #if 1, select people who talked with call center for overdue payment discussion\n",
        "\n",
        "\n",
        "\n",
        "orig_length=df_overdue.shape[0]\n",
        "if FILTER_CALL==1:\n",
        "  df_overdue=df_overdue.loc[df_overdue['Time for call']=='Yes',:]\n",
        "  print('overdue call dataset reducted to',round(df_overdue.shape[0]/orig_length*100,2),'% of original size with',df_overdue.shape[0],'calls registered')\n",
        "elif FILTER_CALL==0:\n",
        "  df_overdue=df_overdue.loc[(df_overdue['Time for call']=='No') | (df_overdue['Time for call']=='Phone off'),:]\n",
        "  print('overdue call dataset reducted to',round(df_overdue.shape[0]/orig_length*100,2),'% of original size with',df_overdue.shape[0],'calls registered')\n",
        "else:\n",
        "  print('full overdue call dataset used (with people who had no time to talk included)')\n"
      ],
      "execution_count": 5,
      "outputs": [
        {
          "output_type": "stream",
          "text": [
            "The dimensions of the overdue payment df (df_overdue) are: (1273, 71)\n",
            "The dimensions of the phone payment df (df_payments) are: (8149, 8)\n",
            "The dimensions of the customer activation df (df_act) are: (701, 8)\n",
            "overdue call dataset reducted to 53.89 % of original size with 686 calls registered\n"
          ],
          "name": "stdout"
        }
      ]
    },
    {
      "cell_type": "code",
      "metadata": {
        "id": "csgCs3SF9tre",
        "colab_type": "code",
        "outputId": "0fbe5d84-7cae-4c22-8993-d2c9f9c04864",
        "colab": {
          "base_uri": "https://localhost:8080/",
          "height": 204
        }
      },
      "source": [
        "df_payments.head()"
      ],
      "execution_count": 6,
      "outputs": [
        {
          "output_type": "execute_result",
          "data": {
            "text/html": [
              "<div>\n",
              "<style scoped>\n",
              "    .dataframe tbody tr th:only-of-type {\n",
              "        vertical-align: middle;\n",
              "    }\n",
              "\n",
              "    .dataframe tbody tr th {\n",
              "        vertical-align: top;\n",
              "    }\n",
              "\n",
              "    .dataframe thead th {\n",
              "        text-align: right;\n",
              "    }\n",
              "</style>\n",
              "<table border=\"1\" class=\"dataframe\">\n",
              "  <thead>\n",
              "    <tr style=\"text-align: right;\">\n",
              "      <th></th>\n",
              "      <th>Phone Number</th>\n",
              "      <th>Amount</th>\n",
              "      <th>Date of payment</th>\n",
              "      <th>Pilot</th>\n",
              "      <th>Pricing scheme</th>\n",
              "      <th>Network reference</th>\n",
              "      <th>Narrative</th>\n",
              "      <th>TransactionID</th>\n",
              "    </tr>\n",
              "  </thead>\n",
              "  <tbody>\n",
              "    <tr>\n",
              "      <th>0</th>\n",
              "      <td>256782385970</td>\n",
              "      <td>7000</td>\n",
              "      <td>2020-03-05 09:40:13</td>\n",
              "      <td>PILOT-3</td>\n",
              "      <td>GOS 3.1</td>\n",
              "      <td>36622242940</td>\n",
              "      <td>Funds Withdrawal (Auto)</td>\n",
              "      <td>5e609eb8dc1c3</td>\n",
              "    </tr>\n",
              "    <tr>\n",
              "      <th>1</th>\n",
              "      <td>256788716239</td>\n",
              "      <td>14000</td>\n",
              "      <td>2020-03-05 09:33:11</td>\n",
              "      <td>PILOT-3</td>\n",
              "      <td>RTO 3.1</td>\n",
              "      <td>85564249</td>\n",
              "      <td>Funds Withdrawal (Auto)</td>\n",
              "      <td>5e609d136beb1</td>\n",
              "    </tr>\n",
              "    <tr>\n",
              "      <th>2</th>\n",
              "      <td>256785588493</td>\n",
              "      <td>14000</td>\n",
              "      <td>2020-03-05 09:04:11</td>\n",
              "      <td>PILOT-3</td>\n",
              "      <td>FFS 3.2</td>\n",
              "      <td>85560864</td>\n",
              "      <td>Funds Withdrawal (Auto)</td>\n",
              "      <td>5e60963941a9b</td>\n",
              "    </tr>\n",
              "    <tr>\n",
              "      <th>3</th>\n",
              "      <td>256779959251</td>\n",
              "      <td>3500</td>\n",
              "      <td>2020-03-05 09:03:54</td>\n",
              "      <td>PILOT-1</td>\n",
              "      <td>GOS 3.1</td>\n",
              "      <td>85560886</td>\n",
              "      <td>Funds Withdrawal (Auto)</td>\n",
              "      <td>5e60963e1c551</td>\n",
              "    </tr>\n",
              "    <tr>\n",
              "      <th>4</th>\n",
              "      <td>256773248788</td>\n",
              "      <td>3500</td>\n",
              "      <td>2020-03-05 08:32:43</td>\n",
              "      <td>PILOT-1</td>\n",
              "      <td>GOS 3.1</td>\n",
              "      <td>36620375409</td>\n",
              "      <td>Funds Withdrawal (Auto)</td>\n",
              "      <td>5e608eeb074e1</td>\n",
              "    </tr>\n",
              "  </tbody>\n",
              "</table>\n",
              "</div>"
            ],
            "text/plain": [
              "   Phone Number  Amount  ...                Narrative TransactionID \n",
              "0  256782385970    7000  ...  Funds Withdrawal (Auto)  5e609eb8dc1c3\n",
              "1  256788716239   14000  ...  Funds Withdrawal (Auto)  5e609d136beb1\n",
              "2  256785588493   14000  ...  Funds Withdrawal (Auto)  5e60963941a9b\n",
              "3  256779959251    3500  ...  Funds Withdrawal (Auto)  5e60963e1c551\n",
              "4  256773248788    3500  ...  Funds Withdrawal (Auto)  5e608eeb074e1\n",
              "\n",
              "[5 rows x 8 columns]"
            ]
          },
          "metadata": {
            "tags": []
          },
          "execution_count": 6
        }
      ]
    },
    {
      "cell_type": "code",
      "metadata": {
        "id": "gLEPB6A7n_Xf",
        "colab_type": "code",
        "colab": {}
      },
      "source": [
        "df_payments=df_payments.groupby('Phone Number',as_index=False).agg({'Date of payment':lambda x: list(x),'Amount':lambda x:list(x),'Pricing scheme':'last'})\n",
        "df_overdue=df_overdue.groupby('Phone Number',as_index=False).agg({'Timestamp Overdue Call':lambda x:list(x),'Amount Overdue':lambda x: list(x),'Days Overdue':lambda x:list(x)})"
      ],
      "execution_count": 0,
      "outputs": []
    },
    {
      "cell_type": "code",
      "metadata": {
        "id": "J-XbugBqDEpO",
        "colab_type": "code",
        "colab": {}
      },
      "source": [
        "df=df_overdue.merge(df_payments,left_on='Phone Number',right_on='Phone Number')"
      ],
      "execution_count": 0,
      "outputs": []
    },
    {
      "cell_type": "code",
      "metadata": {
        "id": "0SvBY9GFD5pI",
        "colab_type": "code",
        "colab": {}
      },
      "source": [
        "def monthly_commitment(pricing_scheme):\n",
        "  if pricing_scheme=='GOS 3.1':\n",
        "    monthly_commitment=28750\n",
        "  elif pricing_scheme=='FFS 3.3':\n",
        "    monthly_commitment=15000\n",
        "  elif pricing_scheme=='FFS 3.2':\n",
        "    monthly_commitment=22500\n",
        "  elif pricing_scheme=='FFS 3.1':\n",
        "    monthly_commitment=32500\n",
        "  elif pricing_scheme=='RTO 3.1':\n",
        "    monthly_commitment=41250\n",
        "  return monthly_commitment"
      ],
      "execution_count": 0,
      "outputs": []
    },
    {
      "cell_type": "code",
      "metadata": {
        "id": "iS0dsjIhjLwB",
        "colab_type": "code",
        "colab": {}
      },
      "source": [
        "def daily_commitment(pricing_scheme):\n",
        "  return monthly_commitment(pricing_scheme)/30.4368499"
      ],
      "execution_count": 0,
      "outputs": []
    },
    {
      "cell_type": "code",
      "metadata": {
        "id": "uUVTKUu0FwaI",
        "colab_type": "code",
        "colab": {}
      },
      "source": [
        "df['monthly commitment']=df['Pricing scheme'].apply(monthly_commitment)"
      ],
      "execution_count": 0,
      "outputs": []
    },
    {
      "cell_type": "code",
      "metadata": {
        "id": "h-UDG8dqZfx3",
        "colab_type": "code",
        "outputId": "e0b40182-f906-4780-c8cc-5578d8cd491b",
        "colab": {
          "base_uri": "https://localhost:8080/",
          "height": 34
        }
      },
      "source": [
        "df.shape"
      ],
      "execution_count": 12,
      "outputs": [
        {
          "output_type": "execute_result",
          "data": {
            "text/plain": [
              "(300, 8)"
            ]
          },
          "metadata": {
            "tags": []
          },
          "execution_count": 12
        }
      ]
    },
    {
      "cell_type": "code",
      "metadata": {
        "id": "NEGa9eNQGOvy",
        "colab_type": "code",
        "colab": {}
      },
      "source": [
        "df_act=df_act[['Primary Tel','Date registered']]\n",
        "df=df.merge(df_act,left_on='Phone Number',right_on='Primary Tel')"
      ],
      "execution_count": 0,
      "outputs": []
    },
    {
      "cell_type": "code",
      "metadata": {
        "id": "VvkKKwCAIFLX",
        "colab_type": "code",
        "colab": {}
      },
      "source": [
        "df['Amount Overdue Calls']=df['Timestamp Overdue Call'].apply(len)"
      ],
      "execution_count": 0,
      "outputs": []
    },
    {
      "cell_type": "code",
      "metadata": {
        "id": "0f3nfiOOTnU5",
        "colab_type": "code",
        "colab": {}
      },
      "source": [
        "clients_more_than_1_call=df.loc[df['Amount Overdue Calls']>1,'Amount Overdue Calls'].shape[0]\n",
        "clients_1_call=df.loc[df['Amount Overdue Calls']==1,'Amount Overdue Calls'].shape[0]\n",
        "clients_overdue=df.shape[0]"
      ],
      "execution_count": 0,
      "outputs": []
    },
    {
      "cell_type": "code",
      "metadata": {
        "id": "o23z7kJVjJkk",
        "colab_type": "code",
        "colab": {}
      },
      "source": [
        "def convert_date(datetimelist):\n",
        "  if isinstance(datetimelist,list):\n",
        "    for i in range(0,len(datetimelist)):\n",
        "      datetimelist[i]=datetimelist[i].to_pydatetime()\n",
        "  else:\n",
        "      datetimelist=datetimelist.to_pydatetime()\n",
        "  return datetimelist"
      ],
      "execution_count": 0,
      "outputs": []
    },
    {
      "cell_type": "code",
      "metadata": {
        "id": "lrn7IHMlxKY3",
        "colab_type": "code",
        "colab": {}
      },
      "source": [
        "def sort_index(datetimelist):\n",
        "  s = np.array(datetimelist) \n",
        "  sort_index = np.argsort(s) #sort from earliest to later\n",
        "  return sort_index "
      ],
      "execution_count": 0,
      "outputs": []
    },
    {
      "cell_type": "code",
      "metadata": {
        "id": "Jysbsjn8ywyJ",
        "colab_type": "code",
        "colab": {}
      },
      "source": [
        "def rearrange(ls,idx):\n",
        "  ls=np.array(ls) \n",
        "  return ls[idx]"
      ],
      "execution_count": 0,
      "outputs": []
    },
    {
      "cell_type": "code",
      "metadata": {
        "id": "0YFa_BdpqsrC",
        "colab_type": "code",
        "colab": {}
      },
      "source": [
        "#df['Timestamp Overdue Call']=df['Timestamp Overdue Call'].apply(convert_date)\n",
        "#df['Date of payment']=df['Date of payment'].apply(convert_date)\n",
        "#df['Date registered']=df['Date registered'].apply(convert_date)"
      ],
      "execution_count": 0,
      "outputs": []
    },
    {
      "cell_type": "code",
      "metadata": {
        "id": "7tO4W-guyFd3",
        "colab_type": "code",
        "colab": {}
      },
      "source": [
        "df['Index Timestamp Overdue Call']=df['Timestamp Overdue Call'].apply(sort_index)\n",
        "df['Index Date of payment']=df['Date of payment'].apply(sort_index)"
      ],
      "execution_count": 0,
      "outputs": []
    },
    {
      "cell_type": "code",
      "metadata": {
        "id": "drkSdPOttfL3",
        "colab_type": "code",
        "colab": {}
      },
      "source": [
        "df['Timestamp Overdue Call']=df.apply(lambda x: rearrange(x['Timestamp Overdue Call'], x['Index Timestamp Overdue Call']),axis=1)\n",
        "df['Amount Overdue']=df.apply(lambda x: rearrange(x['Amount Overdue'], x['Index Timestamp Overdue Call']),axis=1)\n",
        "df['Days Overdue']=df.apply(lambda x: rearrange(x['Days Overdue'], x['Index Timestamp Overdue Call']),axis=1)\n"
      ],
      "execution_count": 0,
      "outputs": []
    },
    {
      "cell_type": "code",
      "metadata": {
        "id": "yv6i_07jttXx",
        "colab_type": "code",
        "colab": {}
      },
      "source": [
        "df['Date of payment']=df.apply(lambda x: rearrange(x['Date of payment'], x['Index Date of payment']),axis=1)\n",
        "df['Amount']=df.apply(lambda x: rearrange(x['Amount'], x['Index Date of payment']),axis=1)\n"
      ],
      "execution_count": 0,
      "outputs": []
    },
    {
      "cell_type": "code",
      "metadata": {
        "id": "gYJdTFkvgyW6",
        "colab_type": "code",
        "outputId": "93a70021-0602-4398-cc6a-25b4ff578ecd",
        "colab": {
          "base_uri": "https://localhost:8080/",
          "height": 312
        }
      },
      "source": [
        "serie=df['Amount Overdue Calls'].value_counts()\n",
        "plt.bar(serie.index,serie.values)\n",
        "plt.title('Histogram')\n",
        "plt.xlabel('Amount of overdue calls per client')\n",
        "plt.ylabel('Amount of overdue clients')"
      ],
      "execution_count": 23,
      "outputs": [
        {
          "output_type": "execute_result",
          "data": {
            "text/plain": [
              "Text(0, 0.5, 'Amount of overdue clients')"
            ]
          },
          "metadata": {
            "tags": []
          },
          "execution_count": 23
        },
        {
          "output_type": "display_data",
          "data": {
            "image/png": "[encoded data removed]",
            "text/plain": [
              "<Figure size 432x288 with 1 Axes>"
            ]
          },
          "metadata": {
            "tags": []
          }
        }
      ]
    },
    {
      "cell_type": "code",
      "metadata": {
        "id": "aNA8xC-PmfzB",
        "colab_type": "code",
        "outputId": "3e77e518-04f9-4825-b3e1-1429bb31dd66",
        "colab": {
          "base_uri": "https://localhost:8080/",
          "height": 54
        }
      },
      "source": [
        "print(round(df.shape[0]/df_payments.shape[0]*100,2),\"% of registered clients (with possible exclusions, eg. faulty phone number, no response from overdue call) have been contacted due to overdue payment\")"
      ],
      "execution_count": 24,
      "outputs": [
        {
          "output_type": "stream",
          "text": [
            "47.39 % of registered clients (with possible exclusions, eg. faulty phone number, no response from overdue call) have been contacted due to overdue payment\n"
          ],
          "name": "stdout"
        }
      ]
    },
    {
      "cell_type": "code",
      "metadata": {
        "id": "xBobyvWjmgYA",
        "colab_type": "code",
        "outputId": "2f666866-e53f-4a20-c427-9dc2148b00f6",
        "colab": {
          "base_uri": "https://localhost:8080/",
          "height": 54
        }
      },
      "source": [
        "print(round(clients_1_call/clients_overdue*100,2),\"% of overdue clients have been contacted once for an overdue payment\",round(clients_more_than_1_call/clients_overdue*100,2),\"% of overdue clients have been contacted more than once for an overdue payment\")"
      ],
      "execution_count": 25,
      "outputs": [
        {
          "output_type": "stream",
          "text": [
            "37.0 % of overdue clients have been contacted once for an overdue payment 63.0 % of overdue clients have been contacted more than once for an overdue payment\n"
          ],
          "name": "stdout"
        }
      ]
    },
    {
      "cell_type": "code",
      "metadata": {
        "id": "TUXuFNdJt_KT",
        "colab_type": "code",
        "outputId": "3b39c295-5c68-4126-f4f4-143f682d4882",
        "colab": {
          "base_uri": "https://localhost:8080/",
          "height": 34
        }
      },
      "source": [
        "df.shape"
      ],
      "execution_count": 31,
      "outputs": [
        {
          "output_type": "execute_result",
          "data": {
            "text/plain": [
              "(300, 14)"
            ]
          },
          "metadata": {
            "tags": []
          },
          "execution_count": 31
        }
      ]
    },
    {
      "cell_type": "code",
      "metadata": {
        "id": "il0j-64-fuVH",
        "colab_type": "code",
        "colab": {}
      },
      "source": [
        "def delete_calls_less_than_5days(call_date_list):\n",
        "  idxs_to_del=[]\n",
        "  for idx in range(1,len(call_date_list)):\n",
        "    if (call_date_list[idx]-call_date_list[idx-1]).days<5:\n",
        "      idxs_to_del.append(idx-1)\n",
        "  call_date_list=np.delete(call_date_list,idxs_to_del)\n",
        "  return call_date_list"
      ],
      "execution_count": 0,
      "outputs": []
    },
    {
      "cell_type": "code",
      "metadata": {
        "id": "sbK99z4ktQRP",
        "colab_type": "code",
        "outputId": "0101ce39-18aa-4732-a433-2372b86f5c57",
        "colab": {
          "base_uri": "https://localhost:8080/",
          "height": 102
        }
      },
      "source": [
        "print(df.loc[6,'Timestamp Overdue Call'])\n",
        "delete_calls_less_than_5days(df.loc[6,'Timestamp Overdue Call'])"
      ],
      "execution_count": 28,
      "outputs": [
        {
          "output_type": "stream",
          "text": [
            "[Timestamp('2019-12-11 17:17:48.445000')\n",
            " Timestamp('2019-12-12 16:38:49.032000')\n",
            " Timestamp('2020-02-03 09:32:23.695000')]\n"
          ],
          "name": "stdout"
        },
        {
          "output_type": "execute_result",
          "data": {
            "text/plain": [
              "array([Timestamp('2019-12-12 16:38:49.032000'),\n",
              "       Timestamp('2020-02-03 09:32:23.695000')], dtype=object)"
            ]
          },
          "metadata": {
            "tags": []
          },
          "execution_count": 28
        }
      ]
    },
    {
      "cell_type": "code",
      "metadata": {
        "id": "W-0rssZqloOx",
        "colab_type": "code",
        "colab": {}
      },
      "source": [
        "df['Timestamp Overdue Call filtered']=df.apply(lambda x: delete_calls_less_than_5days(x['Timestamp Overdue Call']),axis=1)"
      ],
      "execution_count": 0,
      "outputs": []
    },
    {
      "cell_type": "code",
      "metadata": {
        "id": "sBB7wRXWlgOr",
        "colab_type": "code",
        "colab": {}
      },
      "source": [
        "last_date=pd.Timestamp('2020-3-5')\n",
        "def add_fake_call(call_date_list,last_date): #to split final period in 2 (last_call to last_date)\n",
        "  last_call=call_date_list[-1]\n",
        "  if (last_date.date()-last_call.date()).days>=40: #more than 40 days at least\n",
        "    no_of_days=round(((last_date.date()-last_call.date()).days)/2)\n",
        "    fake_call=last_call.date()+pd.DateOffset(days=no_of_days)\n",
        "    call_date_list=np.append(call_date_list,fake_call)\n",
        "  else:\n",
        "    call_date_list=None\n",
        "  return call_date_list"
      ],
      "execution_count": 0,
      "outputs": []
    },
    {
      "cell_type": "code",
      "metadata": {
        "id": "kB1KbPhGnPuc",
        "colab_type": "code",
        "colab": {}
      },
      "source": [
        "df['Timestamp Overdue Call filtered']=df.apply(lambda x: add_fake_call(x['Timestamp Overdue Call filtered'],last_date),axis=1)"
      ],
      "execution_count": 0,
      "outputs": []
    },
    {
      "cell_type": "code",
      "metadata": {
        "id": "NXC4FqN2pOie",
        "colab_type": "code",
        "outputId": "7b5bde55-e05e-48b3-a987-cb63adb99e28",
        "colab": {
          "base_uri": "https://localhost:8080/",
          "height": 34
        }
      },
      "source": [
        "df.shape"
      ],
      "execution_count": 33,
      "outputs": [
        {
          "output_type": "execute_result",
          "data": {
            "text/plain": [
              "(300, 14)"
            ]
          },
          "metadata": {
            "tags": []
          },
          "execution_count": 33
        }
      ]
    },
    {
      "cell_type": "code",
      "metadata": {
        "id": "Y6o2MsGdTY12",
        "colab_type": "code",
        "colab": {}
      },
      "source": [
        "def separate_dates_and_payments(call_date_list,payment_date_list,amount_list,last_date):\n",
        "  seperated_date_list=[]\n",
        "  seperated_payment_list=[]\n",
        "  for call_date in call_date_list:\n",
        "    short_date_list=[]\n",
        "    short_payment_list=[]\n",
        "    for payment_date,payment in zip(payment_date_list,amount_list):\n",
        "      if (call_date.date()-payment_date.date()).days>0:\n",
        "        short_date_list.append(payment_date)\n",
        "        short_payment_list.append(payment)\n",
        "        payment_date_list=np.delete(payment_date_list,0)\n",
        "        amount_list=np.delete(amount_list,0)\n",
        "      else:\n",
        "        break\n",
        "    seperated_date_list.append(short_date_list)\n",
        "    seperated_payment_list.append(short_payment_list)\n",
        "  if len(payment_date_list!=0): \n",
        "    seperated_date_list.append(payment_date_list)\n",
        "    seperated_payment_list.append(amount_list)\n",
        "  else:\n",
        "    seperated_date_list.append([])\n",
        "    seperated_payment_list.append([])\n",
        "  return pd.Series([seperated_date_list,seperated_payment_list])"
      ],
      "execution_count": 0,
      "outputs": []
    },
    {
      "cell_type": "code",
      "metadata": {
        "id": "4-fblHrvn0V-",
        "colab_type": "code",
        "colab": {
          "base_uri": "https://localhost:8080/",
          "height": 34
        },
        "outputId": "2120f1c2-e06a-4c1b-a540-613db92898dc"
      },
      "source": [
        "df.dropna(subset=['Timestamp Overdue Call filtered'],inplace=True)\n",
        "print(df.shape)\n",
        "df[['Separated timestamp payments','Separated payment amounts']]=df.apply(lambda x: separate_dates_and_payments(x['Timestamp Overdue Call filtered'],x['Date of payment'],x['Amount'],last_date),axis=1)"
      ],
      "execution_count": 35,
      "outputs": [
        {
          "output_type": "stream",
          "text": [
            "(239, 14)\n"
          ],
          "name": "stdout"
        }
      ]
    },
    {
      "cell_type": "code",
      "metadata": {
        "id": "X9EyUI7VLCj0",
        "colab_type": "code",
        "colab": {}
      },
      "source": [
        "def calc_days_between(call_date_list,registration_date,last_date):\n",
        "  days_in_between=[None]*(len(call_date_list)+1)\n",
        "  for idx in range(0,len(call_date_list)+1):\n",
        "    if idx==0:\n",
        "      days_in_between[0]=(call_date_list[0].date()-registration_date.date()).days\n",
        "    elif idx==len(call_date_list):\n",
        "      days_in_between[-1]=(last_date.date()-call_date_list[-1].date()).days\n",
        "    else:\n",
        "      days_in_between[idx]=(call_date_list[idx].date()-call_date_list[idx-1].date()).days\n",
        "  return days_in_between"
      ],
      "execution_count": 0,
      "outputs": []
    },
    {
      "cell_type": "code",
      "metadata": {
        "id": "2LWGpbDFoADe",
        "colab_type": "code",
        "colab": {}
      },
      "source": [
        "df['Days between calls']=df.apply(lambda x: calc_days_between(x['Timestamp Overdue Call filtered'],x['Date registered'],last_date),axis=1)"
      ],
      "execution_count": 0,
      "outputs": []
    },
    {
      "cell_type": "code",
      "metadata": {
        "id": "Rbo43w48YjCJ",
        "colab_type": "code",
        "colab": {}
      },
      "source": [
        "def calc_avg_daily_payment(separated_payment_amount_list,days_between_calls_list):\n",
        "  avg_payment_list=[]\n",
        "  for payments,days in zip(separated_payment_amount_list,days_between_calls_list):\n",
        "    avg_payment_list.append(sum(payments)/days)\n",
        "  return avg_payment_list"
      ],
      "execution_count": 0,
      "outputs": []
    },
    {
      "cell_type": "code",
      "metadata": {
        "id": "RGa9FXBBoOxb",
        "colab_type": "code",
        "colab": {}
      },
      "source": [
        "df['Average daily payments']=df.apply(lambda x: calc_avg_daily_payment(x['Separated payment amounts'],x['Days between calls']),axis=1)"
      ],
      "execution_count": 0,
      "outputs": []
    },
    {
      "cell_type": "markdown",
      "metadata": {
        "id": "IRLuq-mqoJ--",
        "colab_type": "text"
      },
      "source": [
        ""
      ]
    },
    {
      "cell_type": "code",
      "metadata": {
        "id": "ENVexkDJYaGd",
        "colab_type": "code",
        "outputId": "79f7c50b-7c3f-42fa-bb17-8c5563a215ca",
        "colab": {
          "base_uri": "https://localhost:8080/",
          "height": 350
        }
      },
      "source": [
        "days_last_call_to_now=[]\n",
        "for index,row in df.iterrows():\n",
        "  days_last_call_to_now.append(row['Days between calls'][-1])\n",
        "\n",
        "\n",
        "plt.figure(figsize=(10,5))\n",
        "plt.hist(days_last_call_to_now,bins=20,facecolor='g', alpha=0.75)\n",
        "plt.xlabel('Days')\n",
        "plt.ylabel('Number')\n",
        "plt.title('Number of days between last call and 5/3/2020 (last registered date)')\n",
        "plt.grid(True)\n",
        "plt.savefig('days_between_last_call_and_last_date.png')\n",
        "plt.show()\n"
      ],
      "execution_count": 40,
      "outputs": [
        {
          "output_type": "display_data",
          "data": {
            "image/png": "[encoded data removed]",
            "text/plain": [
              "<Figure size 720x360 with 1 Axes>"
            ]
          },
          "metadata": {
            "tags": []
          }
        }
      ]
    },
    {
      "cell_type": "code",
      "metadata": {
        "id": "0bfZR3KZd6qg",
        "colab_type": "code",
        "outputId": "6021cba4-2a32-41b6-c013-f301b4a95c43",
        "colab": {
          "base_uri": "https://localhost:8080/",
          "height": 119
        }
      },
      "source": [
        "df['Average daily payments'].apply(len).value_counts()"
      ],
      "execution_count": 41,
      "outputs": [
        {
          "output_type": "execute_result",
          "data": {
            "text/plain": [
              "3    113\n",
              "4    112\n",
              "5      9\n",
              "6      4\n",
              "7      1\n",
              "Name: Average daily payments, dtype: int64"
            ]
          },
          "metadata": {
            "tags": []
          },
          "execution_count": 41
        }
      ]
    },
    {
      "cell_type": "code",
      "metadata": {
        "id": "gpiHBlwnstmg",
        "colab_type": "code",
        "colab": {}
      },
      "source": [
        "df['Average daily payments']=df['Average daily payments'].apply(lambda x: np.asarray(x))"
      ],
      "execution_count": 0,
      "outputs": []
    },
    {
      "cell_type": "code",
      "metadata": {
        "id": "XvvcvRO3rKye",
        "colab_type": "code",
        "colab": {}
      },
      "source": [
        "df_1call=df.loc[df['Average daily payments'].apply(len)==3,:]\n",
        "df_2calls=df.loc[df['Average daily payments'].apply(len)==4,:]"
      ],
      "execution_count": 0,
      "outputs": []
    },
    {
      "cell_type": "code",
      "metadata": {
        "id": "fxmMaTF_ro8T",
        "colab_type": "code",
        "outputId": "4eb47815-0abb-4c85-ad13-45e16258977a",
        "colab": {
          "base_uri": "https://localhost:8080/",
          "height": 34
        }
      },
      "source": [
        "array=df_1call['Average daily payments'].to_numpy()\n",
        "np.mean(array,axis=0)"
      ],
      "execution_count": 45,
      "outputs": [
        {
          "output_type": "execute_result",
          "data": {
            "text/plain": [
              "array([404.48675462, 507.79179753, 367.29663568])"
            ]
          },
          "metadata": {
            "tags": []
          },
          "execution_count": 45
        }
      ]
    },
    {
      "cell_type": "code",
      "metadata": {
        "id": "eUxylstttZ_7",
        "colab_type": "code",
        "outputId": "5d8052c4-6004-4078-94de-37b5445867ec",
        "colab": {
          "base_uri": "https://localhost:8080/",
          "height": 34
        }
      },
      "source": [
        "array=df_2calls['Average daily payments'].to_numpy()\n",
        "np.mean(array,axis=0)"
      ],
      "execution_count": 46,
      "outputs": [
        {
          "output_type": "execute_result",
          "data": {
            "text/plain": [
              "array([411.92159033, 444.24494281, 482.99388025, 482.78582837])"
            ]
          },
          "metadata": {
            "tags": []
          },
          "execution_count": 46
        }
      ]
    },
    {
      "cell_type": "code",
      "metadata": {
        "id": "Cb4-ZVhPux3S",
        "colab_type": "code",
        "outputId": "32ee9c56-0769-416d-a9ce-04a2514214b0",
        "colab": {
          "base_uri": "https://localhost:8080/",
          "height": 34
        }
      },
      "source": [
        "df_1call.shape"
      ],
      "execution_count": 47,
      "outputs": [
        {
          "output_type": "execute_result",
          "data": {
            "text/plain": [
              "(113, 18)"
            ]
          },
          "metadata": {
            "tags": []
          },
          "execution_count": 47
        }
      ]
    },
    {
      "cell_type": "code",
      "metadata": {
        "id": "-dpMri5Ru1OD",
        "colab_type": "code",
        "outputId": "64901725-5620-4fb0-f088-0f93570b0c7e",
        "colab": {
          "base_uri": "https://localhost:8080/",
          "height": 34
        }
      },
      "source": [
        "df_2calls.shape"
      ],
      "execution_count": 48,
      "outputs": [
        {
          "output_type": "execute_result",
          "data": {
            "text/plain": [
              "(112, 18)"
            ]
          },
          "metadata": {
            "tags": []
          },
          "execution_count": 48
        }
      ]
    },
    {
      "cell_type": "code",
      "metadata": {
        "id": "0ubLhG09ZUKJ",
        "colab_type": "code",
        "colab": {
          "base_uri": "https://localhost:8080/",
          "height": 1000
        },
        "outputId": "21ae3b29-097d-46ea-d394-c87e1020183f"
      },
      "source": [
        "df_1call.head()"
      ],
      "execution_count": 49,
      "outputs": [
        {
          "output_type": "execute_result",
          "data": {
            "text/html": [
              "<div>\n",
              "<style scoped>\n",
              "    .dataframe tbody tr th:only-of-type {\n",
              "        vertical-align: middle;\n",
              "    }\n",
              "\n",
              "    .dataframe tbody tr th {\n",
              "        vertical-align: top;\n",
              "    }\n",
              "\n",
              "    .dataframe thead th {\n",
              "        text-align: right;\n",
              "    }\n",
              "</style>\n",
              "<table border=\"1\" class=\"dataframe\">\n",
              "  <thead>\n",
              "    <tr style=\"text-align: right;\">\n",
              "      <th></th>\n",
              "      <th>Phone Number</th>\n",
              "      <th>Timestamp Overdue Call</th>\n",
              "      <th>Amount Overdue</th>\n",
              "      <th>Days Overdue</th>\n",
              "      <th>Date of payment</th>\n",
              "      <th>Amount</th>\n",
              "      <th>Pricing scheme</th>\n",
              "      <th>monthly commitment</th>\n",
              "      <th>Primary Tel</th>\n",
              "      <th>Date registered</th>\n",
              "      <th>Amount Overdue Calls</th>\n",
              "      <th>Index Timestamp Overdue Call</th>\n",
              "      <th>Index Date of payment</th>\n",
              "      <th>Timestamp Overdue Call filtered</th>\n",
              "      <th>Separated timestamp payments</th>\n",
              "      <th>Separated payment amounts</th>\n",
              "      <th>Days between calls</th>\n",
              "      <th>Average daily payments</th>\n",
              "    </tr>\n",
              "  </thead>\n",
              "  <tbody>\n",
              "    <tr>\n",
              "      <th>4</th>\n",
              "      <td>256700390999</td>\n",
              "      <td>[2020-01-16 14:59:38.786000]</td>\n",
              "      <td>[40349]</td>\n",
              "      <td>[38]</td>\n",
              "      <td>[2019-10-09 08:53:01, 2019-10-12 09:31:36, 2019-10-12 09:33:52, 2019-10-16 23:03:28, 2019-11-16 00:38:49, 2019-12-17 22:30:23, 2019-12-29 09:15:32, 2020-01-20 22:25:12, 2020-01-30 22:55:46, 2020-02-28 22:39:26]</td>\n",
              "      <td>[3500, 3500, 3500, 14000, 14000, 14000, 14000, 14000, 14000, 14000]</td>\n",
              "      <td>FFS 3.1</td>\n",
              "      <td>32500</td>\n",
              "      <td>256700390999</td>\n",
              "      <td>2019-10-08 00:00:00</td>\n",
              "      <td>1</td>\n",
              "      <td>[0]</td>\n",
              "      <td>[9, 8, 7, 6, 5, 4, 3, 2, 1, 0]</td>\n",
              "      <td>[2020-01-16 14:59:38.786000, 2020-02-09 00:00:00]</td>\n",
              "      <td>[[2019-10-09 08:53:01, 2019-10-12 09:31:36, 2019-10-12 09:33:52, 2019-10-16 23:03:28, 2019-11-16 00:38:49, 2019-12-17 22:30:23, 2019-12-29 09:15:32], [2020-01-20 22:25:12, 2020-01-30 22:55:46], [2020-02-28 22:39:26]]</td>\n",
              "      <td>[[3500, 3500, 3500, 14000, 14000, 14000, 14000], [14000, 14000], [14000]]</td>\n",
              "      <td>[100, 24, 25]</td>\n",
              "      <td>[665.0, 1166.6666666666667, 560.0]</td>\n",
              "    </tr>\n",
              "    <tr>\n",
              "      <th>8</th>\n",
              "      <td>256701093772</td>\n",
              "      <td>[2020-01-21 16:04:11.812000]</td>\n",
              "      <td>[43554.79]</td>\n",
              "      <td>[41]</td>\n",
              "      <td>[2019-10-31 07:43:33, 2019-10-31 07:52:05, 2019-10-31 07:54:28, 2019-12-04 08:30:25, 2019-12-04 08:30:32, 2019-12-04 08:37:21, 2020-01-28 19:47:21, 2020-01-28 19:50:00, 2020-01-28 19:53:13]</td>\n",
              "      <td>[14000, 14000, 3500, 14000, 14000, 7000, 14000, 14000, 14000]</td>\n",
              "      <td>FFS 3.1</td>\n",
              "      <td>32500</td>\n",
              "      <td>256701093772</td>\n",
              "      <td>2019-10-09 00:00:00</td>\n",
              "      <td>1</td>\n",
              "      <td>[0]</td>\n",
              "      <td>[8, 7, 6, 5, 4, 3, 2, 1, 0]</td>\n",
              "      <td>[2020-01-21 16:04:11.812000, 2020-02-12 00:00:00]</td>\n",
              "      <td>[[2019-10-31 07:43:33, 2019-10-31 07:52:05, 2019-10-31 07:54:28, 2019-12-04 08:30:25, 2019-12-04 08:30:32, 2019-12-04 08:37:21], [2020-01-28 19:47:21, 2020-01-28 19:50:00, 2020-01-28 19:53:13], []]</td>\n",
              "      <td>[[14000, 14000, 3500, 14000, 14000, 7000], [14000, 14000, 14000], []]</td>\n",
              "      <td>[104, 22, 22]</td>\n",
              "      <td>[639.4230769230769, 1909.090909090909, 0.0]</td>\n",
              "    </tr>\n",
              "    <tr>\n",
              "      <th>12</th>\n",
              "      <td>256701394424</td>\n",
              "      <td>[2019-12-23 16:36:00.486000]</td>\n",
              "      <td>[43000]</td>\n",
              "      <td>[32]</td>\n",
              "      <td>[2019-10-17 21:42:43, 2019-10-19 06:59:28, 2019-10-22 06:43:50, 2019-11-07 20:03:55, 2019-11-09 21:48:18, 2019-11-16 13:12:06, 2019-11-28 15:31:56, 2019-12-01 14:26:07, 2019-12-07 19:47:21, 2020-01-02 11:25:00, 2020-01-09 09:22:36, 2020-01-14 09:41:28, 2020-01-20 19:47:25, 2020-01-26 16:50:41]</td>\n",
              "      <td>[3500, 3500, 14000, 3500, 7000, 14000, 3500, 3500, 3500, 14000, 7000, 3500, 3500, 3500]</td>\n",
              "      <td>RTO 3.1</td>\n",
              "      <td>41250</td>\n",
              "      <td>256701394424</td>\n",
              "      <td>2019-10-11 18:20:29</td>\n",
              "      <td>1</td>\n",
              "      <td>[0]</td>\n",
              "      <td>[13, 12, 11, 10, 9, 8, 7, 6, 5, 4, 3, 2, 1, 0]</td>\n",
              "      <td>[2019-12-23 16:36:00.486000, 2020-01-28 00:00:00]</td>\n",
              "      <td>[[2019-10-17 21:42:43, 2019-10-19 06:59:28, 2019-10-22 06:43:50, 2019-11-07 20:03:55, 2019-11-09 21:48:18, 2019-11-16 13:12:06, 2019-11-28 15:31:56, 2019-12-01 14:26:07, 2019-12-07 19:47:21], [2020-01-02 11:25:00, 2020-01-09 09:22:36, 2020-01-14 09:41:28, 2020-01-20 19:47:25, 2020-01-26 16:50:41], []]</td>\n",
              "      <td>[[3500, 3500, 14000, 3500, 7000, 14000, 3500, 3500, 3500], [14000, 7000, 3500, 3500, 3500], []]</td>\n",
              "      <td>[73, 36, 37]</td>\n",
              "      <td>[767.1232876712329, 875.0, 0.0]</td>\n",
              "    </tr>\n",
              "    <tr>\n",
              "      <th>16</th>\n",
              "      <td>256701496047</td>\n",
              "      <td>[2019-12-23 16:47:16.731000]</td>\n",
              "      <td>[60630.1]</td>\n",
              "      <td>[64]</td>\n",
              "      <td>[2019-10-28 21:27:21, 2019-11-25 21:26:54, 2019-11-25 21:33:20, 2019-12-12 19:21:56, 2019-12-27 18:39:15, 2019-12-27 18:40:10, 2019-12-27 18:41:01, 2019-12-27 18:43:56, 2019-12-27 18:52:47]</td>\n",
              "      <td>[14000, 14000, 14000, 14000, 14000, 14000, 14000, 14000, 7000]</td>\n",
              "      <td>RTO 3.1</td>\n",
              "      <td>41250</td>\n",
              "      <td>256701496047</td>\n",
              "      <td>2019-09-28 00:00:00</td>\n",
              "      <td>1</td>\n",
              "      <td>[0]</td>\n",
              "      <td>[8, 7, 6, 5, 4, 3, 2, 1, 0]</td>\n",
              "      <td>[2019-12-23 16:47:16.731000, 2020-01-28 00:00:00]</td>\n",
              "      <td>[[2019-10-28 21:27:21, 2019-11-25 21:26:54, 2019-11-25 21:33:20, 2019-12-12 19:21:56], [2019-12-27 18:39:15, 2019-12-27 18:40:10, 2019-12-27 18:41:01, 2019-12-27 18:43:56, 2019-12-27 18:52:47], []]</td>\n",
              "      <td>[[14000, 14000, 14000, 14000], [14000, 14000, 14000, 14000, 7000], []]</td>\n",
              "      <td>[86, 36, 37]</td>\n",
              "      <td>[651.1627906976744, 1750.0, 0.0]</td>\n",
              "    </tr>\n",
              "    <tr>\n",
              "      <th>19</th>\n",
              "      <td>256701783444</td>\n",
              "      <td>[2020-01-17 14:52:12.672000]</td>\n",
              "      <td>[52072]</td>\n",
              "      <td>[52]</td>\n",
              "      <td>[2019-10-12 13:50:37, 2019-11-01 20:22:23, 2019-11-08 08:51:06, 2019-11-23 14:20:15, 2019-12-19 21:16:48, 2020-01-15 11:57:09]</td>\n",
              "      <td>[14140, 3500, 14000, 14000, 3500, 3500]</td>\n",
              "      <td>FFS 3.1</td>\n",
              "      <td>32500</td>\n",
              "      <td>256701783444</td>\n",
              "      <td>2019-10-09 00:00:00</td>\n",
              "      <td>1</td>\n",
              "      <td>[0]</td>\n",
              "      <td>[5, 4, 3, 2, 1, 0]</td>\n",
              "      <td>[2020-01-17 14:52:12.672000, 2020-02-10 00:00:00]</td>\n",
              "      <td>[[2019-10-12 13:50:37, 2019-11-01 20:22:23, 2019-11-08 08:51:06, 2019-11-23 14:20:15, 2019-12-19 21:16:48, 2020-01-15 11:57:09], [], []]</td>\n",
              "      <td>[[14140, 3500, 14000, 14000, 3500, 3500], [], []]</td>\n",
              "      <td>[100, 24, 24]</td>\n",
              "      <td>[526.4, 0.0, 0.0]</td>\n",
              "    </tr>\n",
              "  </tbody>\n",
              "</table>\n",
              "</div>"
            ],
            "text/plain": [
              "    Phone Number  ...                       Average daily payments\n",
              "4   256700390999  ...           [665.0, 1166.6666666666667, 560.0]\n",
              "8   256701093772  ...  [639.4230769230769, 1909.090909090909, 0.0]\n",
              "12  256701394424  ...              [767.1232876712329, 875.0, 0.0]\n",
              "16  256701496047  ...             [651.1627906976744, 1750.0, 0.0]\n",
              "19  256701783444  ...                            [526.4, 0.0, 0.0]\n",
              "\n",
              "[5 rows x 18 columns]"
            ]
          },
          "metadata": {
            "tags": []
          },
          "execution_count": 49
        }
      ]
    },
    {
      "cell_type": "code",
      "metadata": {
        "id": "j7sAgmUlcXbP",
        "colab_type": "code",
        "colab": {}
      },
      "source": [
        "df_export_1call=pd.DataFrame()\n",
        "i=0\n",
        "for idx,row in df_1call.iterrows():\n",
        "  df_export_1call.loc[i,'Phone Number']='+'+str(row['Phone Number'])\n",
        "  df_export_1call.loc[i,'Average Daily Payment - Baseline ']=round(row['Average daily payments'][0],2)\n",
        "  df_export_1call.loc[i,'Average Daily Payment - Effect Call 1 in 1st period']=round(row['Average daily payments'][1],2)\n",
        "  df_export_1call.loc[i,'Average Daily Payment - Effect Call 1 in 2nd period']=round(row['Average daily payments'][2],2)\n",
        "  df_export_1call.loc[i,'Days between calls']=str(row['Days between calls'])\n",
        "  i+=1\n"
      ],
      "execution_count": 0,
      "outputs": []
    },
    {
      "cell_type": "code",
      "metadata": {
        "id": "BQBdif0wbP5m",
        "colab_type": "code",
        "colab": {}
      },
      "source": [
        "df_export_2calls=pd.DataFrame()\n",
        "i=0\n",
        "for idx,row in df_2calls.iterrows():\n",
        "  df_export_2calls.loc[i,'Phone Number']='+'+str(row['Phone Number'])\n",
        "  df_export_2calls.loc[i,'Average Daily Payment - Baseline ']=round(row['Average daily payments'][0],2)\n",
        "  df_export_2calls.loc[i,'Average Daily Payment - Effect Call 1']=round(row['Average daily payments'][1],2)\n",
        "  df_export_2calls.loc[i,'Average Daily Payment - Effect Call 2 in 1st period']=round(row['Average daily payments'][2],2)\n",
        "  df_export_2calls.loc[i,'Average Daily Payment - Effect Call 2 in 2nd period']=round(row['Average daily payments'][3],2)\n",
        "  df_export_2calls.loc[i,'Days between calls']=str(row['Days between calls'])\n",
        "  i+=1\n"
      ],
      "execution_count": 0,
      "outputs": []
    },
    {
      "cell_type": "code",
      "metadata": {
        "id": "d54ue2Ifbqyg",
        "colab_type": "code",
        "colab": {
          "base_uri": "https://localhost:8080/",
          "height": 34
        },
        "outputId": "7cb9f32e-b156-491f-a78b-ee459da1549c"
      },
      "source": [
        "df_export_2calls['Average Daily Payment - Effect Call 2 in 1st period'].mean()"
      ],
      "execution_count": 61,
      "outputs": [
        {
          "output_type": "execute_result",
          "data": {
            "text/plain": [
              "482.9936607142857"
            ]
          },
          "metadata": {
            "tags": []
          },
          "execution_count": 61
        }
      ]
    },
    {
      "cell_type": "code",
      "metadata": {
        "id": "u8JdvXxDdeix",
        "colab_type": "code",
        "colab": {}
      },
      "source": [
        "df_export_1call.to_excel('ADP between calls (effect of call1).xlsx')"
      ],
      "execution_count": 0,
      "outputs": []
    },
    {
      "cell_type": "code",
      "metadata": {
        "id": "OJxL1qy7cOvA",
        "colab_type": "code",
        "colab": {}
      },
      "source": [
        "df_export_2calls.to_excel('ADP between calls (effect of call2).xlsx')"
      ],
      "execution_count": 0,
      "outputs": []
    },
    {
      "cell_type": "code",
      "metadata": {
        "id": "jFhUnb-bjmfV",
        "colab_type": "code",
        "outputId": "bb9c9ee3-4d29-43ec-de41-f79a0677c5cf",
        "colab": {
          "base_uri": "https://localhost:8080/",
          "height": 34
        }
      },
      "source": [
        "!pwd"
      ],
      "execution_count": 62,
      "outputs": [
        {
          "output_type": "stream",
          "text": [
            "/content/drive/My Drive/ENGIE/clean_cooking\n"
          ],
          "name": "stdout"
        }
      ]
    },
    {
      "cell_type": "code",
      "metadata": {
        "id": "BZPOxyUkV5rx",
        "colab_type": "code",
        "colab": {}
      },
      "source": [
        ""
      ],
      "execution_count": 0,
      "outputs": []
    }
  ]
}